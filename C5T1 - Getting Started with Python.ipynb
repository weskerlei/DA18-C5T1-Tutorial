{
 "cells": [
  {
   "cell_type": "markdown",
   "metadata": {},
   "source": [
    "# Course 5 Task 1 preliminary exercises"
   ]
  },
  {
   "cell_type": "code",
   "execution_count": 2,
   "metadata": {},
   "outputs": [],
   "source": [
    "import math"
   ]
  },
  {
   "cell_type": "code",
   "execution_count": 3,
   "metadata": {},
   "outputs": [
    {
     "data": {
      "text/plain": [
       "5.0"
      ]
     },
     "execution_count": 3,
     "metadata": {},
     "output_type": "execute_result"
    }
   ],
   "source": [
    "math.sqrt(25)"
   ]
  },
  {
   "cell_type": "code",
   "execution_count": 4,
   "metadata": {},
   "outputs": [
    {
     "data": {
      "text/plain": [
       "3.141592653589793"
      ]
     },
     "execution_count": 4,
     "metadata": {},
     "output_type": "execute_result"
    }
   ],
   "source": [
    "math.pi"
   ]
  },
  {
   "cell_type": "code",
   "execution_count": 6,
   "metadata": {},
   "outputs": [],
   "source": [
    "import math as mt"
   ]
  },
  {
   "cell_type": "code",
   "execution_count": 7,
   "metadata": {},
   "outputs": [
    {
     "data": {
      "text/plain": [
       "3.141592653589793"
      ]
     },
     "execution_count": 7,
     "metadata": {},
     "output_type": "execute_result"
    }
   ],
   "source": [
    "mt.pi"
   ]
  },
  {
   "cell_type": "code",
   "execution_count": 8,
   "metadata": {},
   "outputs": [],
   "source": [
    "import numpy as np"
   ]
  },
  {
   "cell_type": "code",
   "execution_count": 10,
   "metadata": {},
   "outputs": [],
   "source": [
    "from numpy import random"
   ]
  },
  {
   "cell_type": "code",
   "execution_count": null,
   "metadata": {},
   "outputs": [],
   "source": [
    "# uniform random numbers in [0,1]"
   ]
  },
  {
   "cell_type": "code",
   "execution_count": 27,
   "metadata": {},
   "outputs": [],
   "source": [
    "dataOne = random.rand(5,5)"
   ]
  },
  {
   "cell_type": "code",
   "execution_count": 28,
   "metadata": {},
   "outputs": [
    {
     "data": {
      "text/plain": [
       "array([[0.14073029, 0.51371003, 0.9709124 , 0.75399266, 0.25944707],\n",
       "       [0.74517398, 0.14714251, 0.95702574, 0.37490369, 0.2508285 ],\n",
       "       [0.17865345, 0.32051759, 0.71280143, 0.87764084, 0.4114477 ],\n",
       "       [0.28077634, 0.93323133, 0.85960908, 0.0735003 , 0.80731095],\n",
       "       [0.28235415, 0.22293605, 0.25477691, 0.82110287, 0.77604997]])"
      ]
     },
     "execution_count": 28,
     "metadata": {},
     "output_type": "execute_result"
    }
   ],
   "source": [
    "dataOne"
   ]
  },
  {
   "cell_type": "code",
   "execution_count": 16,
   "metadata": {},
   "outputs": [
    {
     "data": {
      "text/plain": [
       "0.5616156835401503"
      ]
     },
     "execution_count": 16,
     "metadata": {},
     "output_type": "execute_result"
    }
   ],
   "source": [
    "np.mean(dataOne)"
   ]
  },
  {
   "cell_type": "code",
   "execution_count": 20,
   "metadata": {},
   "outputs": [
    {
     "data": {
      "text/plain": [
       "16.84847050620451"
      ]
     },
     "execution_count": 20,
     "metadata": {},
     "output_type": "execute_result"
    }
   ],
   "source": [
    "dataOne.sum()"
   ]
  },
  {
   "cell_type": "code",
   "execution_count": 30,
   "metadata": {},
   "outputs": [
    {
     "data": {
      "text/plain": [
       "0.8809369865142884"
      ]
     },
     "execution_count": 30,
     "metadata": {},
     "output_type": "execute_result"
    }
   ],
   "source": [
    "mt.sqrt(dataOne[4,4])"
   ]
  },
  {
   "cell_type": "code",
   "execution_count": 49,
   "metadata": {},
   "outputs": [
    {
     "data": {
      "text/plain": [
       "0.9709123975408945"
      ]
     },
     "execution_count": 49,
     "metadata": {},
     "output_type": "execute_result"
    }
   ],
   "source": [
    "np.amax(dataOne)"
   ]
  },
  {
   "cell_type": "code",
   "execution_count": 50,
   "metadata": {},
   "outputs": [
    {
     "data": {
      "text/plain": [
       "0.0735002994104168"
      ]
     },
     "execution_count": 50,
     "metadata": {},
     "output_type": "execute_result"
    }
   ],
   "source": [
    "np.amin(dataOne)"
   ]
  },
  {
   "cell_type": "code",
   "execution_count": 56,
   "metadata": {},
   "outputs": [
    {
     "data": {
      "text/plain": [
       "(0, 2)"
      ]
     },
     "execution_count": 56,
     "metadata": {},
     "output_type": "execute_result"
    }
   ],
   "source": [
    "##return indexes of maximum element in nd array\n",
    "np.unravel_index(np.argmax(dataOne), dataOne.shape)"
   ]
  },
  {
   "cell_type": "code",
   "execution_count": 62,
   "metadata": {},
   "outputs": [],
   "source": [
    "## user defined function\n",
    "def print_like(item1,item2):\n",
    "    print (\"I like\", item1, \"and\", item2)\n",
    "    return;"
   ]
  },
  {
   "cell_type": "code",
   "execution_count": 67,
   "metadata": {},
   "outputs": [
    {
     "name": "stdout",
     "output_type": "stream",
     "text": [
      "I like apple and orange\n"
     ]
    }
   ],
   "source": [
    "print_like('apple', 'orange')"
   ]
  },
  {
   "cell_type": "code",
   "execution_count": 71,
   "metadata": {},
   "outputs": [
    {
     "name": "stdout",
     "output_type": "stream",
     "text": [
      "50.0\n"
     ]
    },
    {
     "data": {
      "text/plain": [
       "float"
      ]
     },
     "execution_count": 71,
     "metadata": {},
     "output_type": "execute_result"
    }
   ],
   "source": [
    "varOne = 25\n",
    "varTwo = 25.0\n",
    "varThree = varOne + varTwo\n",
    "print(varThree)\n",
    "type(varThree)"
   ]
  },
  {
   "cell_type": "code",
   "execution_count": 72,
   "metadata": {},
   "outputs": [],
   "source": [
    "A = [1,2,3,4,5]"
   ]
  },
  {
   "cell_type": "code",
   "execution_count": 76,
   "metadata": {},
   "outputs": [
    {
     "name": "stdout",
     "output_type": "stream",
     "text": [
      "[1, 2, 3, 4, 5]\n"
     ]
    }
   ],
   "source": [
    "print(A[0:6])"
   ]
  },
  {
   "cell_type": "code",
   "execution_count": 81,
   "metadata": {},
   "outputs": [],
   "source": [
    "key = {'int1':24, 'int2':12,'int3':8, 'int4':0,'int5':2}"
   ]
  },
  {
   "cell_type": "code",
   "execution_count": 92,
   "metadata": {},
   "outputs": [
    {
     "data": {
      "text/plain": [
       "36"
      ]
     },
     "execution_count": 92,
     "metadata": {},
     "output_type": "execute_result"
    }
   ],
   "source": [
    "key['int1']+key['int2']"
   ]
  },
  {
   "cell_type": "code",
   "execution_count": 93,
   "metadata": {},
   "outputs": [
    {
     "data": {
      "text/plain": [
       "288"
      ]
     },
     "execution_count": 93,
     "metadata": {},
     "output_type": "execute_result"
    }
   ],
   "source": [
    "key['int1']*key['int2']"
   ]
  },
  {
   "cell_type": "code",
   "execution_count": 96,
   "metadata": {},
   "outputs": [
    {
     "data": {
      "text/plain": [
       "1"
      ]
     },
     "execution_count": 96,
     "metadata": {},
     "output_type": "execute_result"
    }
   ],
   "source": [
    "key['int3']**key['int4']"
   ]
  },
  {
   "cell_type": "markdown",
   "metadata": {},
   "source": [
    "# Course5 Task 1 - ch4 exercises"
   ]
  },
  {
   "cell_type": "markdown",
   "metadata": {},
   "source": [
    "## assigning values to variables and arithmitic operations"
   ]
  },
  {
   "cell_type": "code",
   "execution_count": 21,
   "metadata": {},
   "outputs": [],
   "source": [
    "a = 1.0\n",
    "b = 1\n",
    "c = True"
   ]
  },
  {
   "cell_type": "code",
   "execution_count": 12,
   "metadata": {},
   "outputs": [
    {
     "data": {
      "text/plain": [
       "float"
      ]
     },
     "execution_count": 12,
     "metadata": {},
     "output_type": "execute_result"
    }
   ],
   "source": [
    "## type of object in Python\n",
    "type(a)"
   ]
  },
  {
   "cell_type": "code",
   "execution_count": 11,
   "metadata": {},
   "outputs": [
    {
     "data": {
      "text/plain": [
       "int"
      ]
     },
     "execution_count": 11,
     "metadata": {},
     "output_type": "execute_result"
    }
   ],
   "source": [
    "type(b)"
   ]
  },
  {
   "cell_type": "code",
   "execution_count": 13,
   "metadata": {
    "scrolled": true
   },
   "outputs": [
    {
     "data": {
      "text/plain": [
       "bool"
      ]
     },
     "execution_count": 13,
     "metadata": {},
     "output_type": "execute_result"
    }
   ],
   "source": [
    "type(c)"
   ]
  },
  {
   "cell_type": "code",
   "execution_count": 20,
   "metadata": {},
   "outputs": [
    {
     "data": {
      "text/plain": [
       "4.0"
      ]
     },
     "execution_count": 20,
     "metadata": {},
     "output_type": "execute_result"
    }
   ],
   "source": [
    "## a = 1.0, b =1\n",
    "b += 3\n",
    "b"
   ]
  },
  {
   "cell_type": "markdown",
   "metadata": {},
   "source": [
    "## relational operators and logical operator"
   ]
  },
  {
   "cell_type": "code",
   "execution_count": 22,
   "metadata": {},
   "outputs": [
    {
     "data": {
      "text/plain": [
       "False"
      ]
     },
     "execution_count": 22,
     "metadata": {},
     "output_type": "execute_result"
    }
   ],
   "source": [
    "1 == 2"
   ]
  },
  {
   "cell_type": "code",
   "execution_count": 23,
   "metadata": {},
   "outputs": [
    {
     "data": {
      "text/plain": [
       "False"
      ]
     },
     "execution_count": 23,
     "metadata": {},
     "output_type": "execute_result"
    }
   ],
   "source": [
    "1>=2"
   ]
  },
  {
   "cell_type": "code",
   "execution_count": 37,
   "metadata": {},
   "outputs": [
    {
     "data": {
      "text/plain": [
       "True"
      ]
     },
     "execution_count": 37,
     "metadata": {},
     "output_type": "execute_result"
    }
   ],
   "source": [
    "not (False or False)"
   ]
  },
  {
   "cell_type": "markdown",
   "metadata": {},
   "source": [
    "## convert string to number and vice versa"
   ]
  },
  {
   "cell_type": "code",
   "execution_count": 39,
   "metadata": {},
   "outputs": [
    {
     "data": {
      "text/plain": [
       "'911'"
      ]
     },
     "execution_count": 39,
     "metadata": {},
     "output_type": "execute_result"
    }
   ],
   "source": [
    "string = \"911\"\n",
    "string"
   ]
  },
  {
   "cell_type": "code",
   "execution_count": 44,
   "metadata": {},
   "outputs": [
    {
     "data": {
      "text/plain": [
       "911"
      ]
     },
     "execution_count": 44,
     "metadata": {},
     "output_type": "execute_result"
    }
   ],
   "source": [
    "int(string)"
   ]
  },
  {
   "cell_type": "code",
   "execution_count": 45,
   "metadata": {},
   "outputs": [
    {
     "data": {
      "text/plain": [
       "'911'"
      ]
     },
     "execution_count": 45,
     "metadata": {},
     "output_type": "execute_result"
    }
   ],
   "source": [
    "str(string)"
   ]
  },
  {
   "cell_type": "code",
   "execution_count": 47,
   "metadata": {},
   "outputs": [
    {
     "data": {
      "text/plain": [
       "False"
      ]
     },
     "execution_count": 47,
     "metadata": {},
     "output_type": "execute_result"
    }
   ],
   "source": [
    "\"Helo\" in \"Hello Goodbye\""
   ]
  },
  {
   "cell_type": "markdown",
   "metadata": {},
   "source": [
    "## datetime in Python"
   ]
  },
  {
   "cell_type": "code",
   "execution_count": 49,
   "metadata": {},
   "outputs": [],
   "source": [
    "import datetime"
   ]
  },
  {
   "cell_type": "code",
   "execution_count": 63,
   "metadata": {},
   "outputs": [
    {
     "data": {
      "text/plain": [
       "'2018-11-26 12:05:53.527983'"
      ]
     },
     "execution_count": 63,
     "metadata": {},
     "output_type": "execute_result"
    }
   ],
   "source": [
    "str(datetime.datetime.now())"
   ]
  },
  {
   "cell_type": "markdown",
   "metadata": {},
   "source": [
    "## define a function, send argument with key words"
   ]
  },
  {
   "cell_type": "code",
   "execution_count": 85,
   "metadata": {},
   "outputs": [],
   "source": [
    "def DoSum(value1, value2):\n",
    "    print (\"value 1 is \" + str(value1) + \", value 2 is \" + str(value2) +\", sum is \" + str(value1+value2))\n",
    "    "
   ]
  },
  {
   "cell_type": "code",
   "execution_count": 86,
   "metadata": {},
   "outputs": [
    {
     "name": "stdout",
     "output_type": "stream",
     "text": [
      "value 1 is 2, value 2 is 6, sum is 8\n"
     ]
    }
   ],
   "source": [
    "DoSum(value2=6,value1=2)"
   ]
  },
  {
   "cell_type": "markdown",
   "metadata": {},
   "source": [
    "## giving function a default value"
   ]
  },
  {
   "cell_type": "code",
   "execution_count": 87,
   "metadata": {},
   "outputs": [],
   "source": [
    "def SayHello(Greeting = \"No Value Supplied\"):\n",
    "    print(Greeting)"
   ]
  },
  {
   "cell_type": "code",
   "execution_count": 90,
   "metadata": {},
   "outputs": [
    {
     "name": "stdout",
     "output_type": "stream",
     "text": [
      "yes\n"
     ]
    }
   ],
   "source": [
    "SayHello(\"yes\")"
   ]
  },
  {
   "cell_type": "markdown",
   "metadata": {},
   "source": [
    "## function with a variable number of arguments"
   ]
  },
  {
   "cell_type": "code",
   "execution_count": 99,
   "metadata": {},
   "outputs": [],
   "source": [
    "def DisplayMulti(*VarArgs):\n",
    "    print(\"You passed \", VarArgs)"
   ]
  },
  {
   "cell_type": "code",
   "execution_count": 101,
   "metadata": {},
   "outputs": [
    {
     "name": "stdout",
     "output_type": "stream",
     "text": [
      "You passed  ('yes', 1)\n"
     ]
    }
   ],
   "source": [
    "DisplayMulti( \"yes\", 1)"
   ]
  },
  {
   "cell_type": "code",
   "execution_count": 103,
   "metadata": {},
   "outputs": [],
   "source": [
    "## if statements"
   ]
  },
  {
   "cell_type": "code",
   "execution_count": 104,
   "metadata": {},
   "outputs": [],
   "source": [
    "def TestValue(Value):\n",
    "    if Value == 5:\n",
    "        print(\"Value equals 5!\")\n",
    "    elif Value == 6:\n",
    "        print(\"Value equals 6!\")\n",
    "    else:\n",
    "        print(\"Value is something else. It is \" + str(Value))"
   ]
  },
  {
   "cell_type": "code",
   "execution_count": 107,
   "metadata": {},
   "outputs": [
    {
     "name": "stdout",
     "output_type": "stream",
     "text": [
      "Value is something else. It is 1\n"
     ]
    }
   ],
   "source": [
    "TestValue(1)"
   ]
  },
  {
   "cell_type": "code",
   "execution_count": null,
   "metadata": {},
   "outputs": [],
   "source": [
    "## nested statement"
   ]
  },
  {
   "cell_type": "code",
   "execution_count": 109,
   "metadata": {},
   "outputs": [],
   "source": [
    "def SecretNumber():\n",
    "    One = int(input(\"Type a number between 1 and 10: \"))\n",
    "    Two = int(input(\"Type a number between 1 and 10: \"))\n",
    "    if (One >=1) and (One <=10):\n",
    "        if (Two >=1) and (Two <=10):\n",
    "            print(\"Your secret number is: \" + str(One*Two))\n",
    "        else:\n",
    "            print(\"Incorrect second Value!\")\n",
    "    else:\n",
    "        print(\"Incorrect first value!\")\n",
    "        "
   ]
  },
  {
   "cell_type": "code",
   "execution_count": 112,
   "metadata": {},
   "outputs": [
    {
     "name": "stdout",
     "output_type": "stream",
     "text": [
      "Type a number between 1 and 10: 10\n",
      "Type a number between 1 and 10: 10\n",
      "Your secret number is: 100\n"
     ]
    }
   ],
   "source": [
    "SecretNumber()"
   ]
  },
  {
   "cell_type": "code",
   "execution_count": null,
   "metadata": {},
   "outputs": [],
   "source": [
    "## for loop"
   ]
  },
  {
   "cell_type": "code",
   "execution_count": 145,
   "metadata": {},
   "outputs": [],
   "source": [
    "def DisplayMulti(*VarArgs):\n",
    "    for Arg in VarArgs:\n",
    "        if Arg.upper() == \"CONT\":\n",
    "            continue\n",
    "            print(\"Continue Arugment: \" + Arg)\n",
    "        elif Arg.upper() == \"BREAK\":\n",
    "            break\n",
    "            print(\"Break Argument: \" + Arg)\n",
    "        else:\n",
    "            print(\"Good Argument: \" + Arg)"
   ]
  },
  {
   "cell_type": "code",
   "execution_count": 146,
   "metadata": {},
   "outputs": [
    {
     "name": "stdout",
     "output_type": "stream",
     "text": [
      "Good Argument: hello\n",
      "Good Argument: Goodbye\n"
     ]
    }
   ],
   "source": [
    "DisplayMulti(\"hello\", \"cont\", \"Goodbye\", \"break\", \"Last\")"
   ]
  },
  {
   "cell_type": "code",
   "execution_count": null,
   "metadata": {},
   "outputs": [],
   "source": [
    "## while loop"
   ]
  },
  {
   "cell_type": "code",
   "execution_count": 152,
   "metadata": {},
   "outputs": [],
   "source": [
    "def SecretNumber():\n",
    "    GotIt = False\n",
    "    while GotIt == False:\n",
    "        One = int(input(\"Type a number between 1 and 10: \"))\n",
    "        Two = int(input(\"Type a number between 1 and 10: \"))\n",
    "        if (One >=1) and (One <=10):\n",
    "            if (Two >=1) and (Two <=10):\n",
    "                print(\"Your secret number is: \" + str(One*Two))\n",
    "                GotIt = True\n",
    "                continue\n",
    "            else:\n",
    "                print(\"Incorrect second value!\")\n",
    "        else:\n",
    "            print(\"Incorrect first value!\")\n",
    "        print(\"Try again!\")"
   ]
  },
  {
   "cell_type": "code",
   "execution_count": 153,
   "metadata": {},
   "outputs": [
    {
     "name": "stdout",
     "output_type": "stream",
     "text": [
      "Type a number between 1 and 10: 9\n",
      "Type a number between 1 and 10: 9\n",
      "Your secret number is: 81\n"
     ]
    }
   ],
   "source": [
    "SecretNumber()"
   ]
  },
  {
   "cell_type": "markdown",
   "metadata": {},
   "source": [
    "## storing data in python: Set"
   ]
  },
  {
   "cell_type": "code",
   "execution_count": 7,
   "metadata": {},
   "outputs": [],
   "source": [
    "setA = set([\"Red\", \"Blue\", \"Green\", \"Black\"])"
   ]
  },
  {
   "cell_type": "code",
   "execution_count": 8,
   "metadata": {},
   "outputs": [],
   "source": [
    "setB = set([\"Black\", \"Green\", \"Yellow\", \"Orange\"])"
   ]
  },
  {
   "cell_type": "code",
   "execution_count": 10,
   "metadata": {},
   "outputs": [],
   "source": [
    "setC = setA.union(setB)"
   ]
  },
  {
   "cell_type": "code",
   "execution_count": 11,
   "metadata": {},
   "outputs": [],
   "source": [
    "setD = setA.intersection(setB)"
   ]
  },
  {
   "cell_type": "code",
   "execution_count": 12,
   "metadata": {},
   "outputs": [],
   "source": [
    "setE = setA.difference(setB)"
   ]
  },
  {
   "cell_type": "code",
   "execution_count": 15,
   "metadata": {},
   "outputs": [
    {
     "data": {
      "text/plain": [
       "{'Blue', 'Red'}"
      ]
     },
     "execution_count": 15,
     "metadata": {},
     "output_type": "execute_result"
    }
   ],
   "source": [
    "setE"
   ]
  },
  {
   "cell_type": "markdown",
   "metadata": {},
   "source": [
    "## storing data in python: list"
   ]
  },
  {
   "cell_type": "code",
   "execution_count": 25,
   "metadata": {},
   "outputs": [
    {
     "data": {
      "text/plain": [
       "[0, 1, 2, 4]"
      ]
     },
     "execution_count": 25,
     "metadata": {},
     "output_type": "execute_result"
    }
   ],
   "source": [
    "listA = [0,1,2,4]\n",
    "listA"
   ]
  },
  {
   "cell_type": "code",
   "execution_count": 26,
   "metadata": {},
   "outputs": [],
   "source": [
    "listA.append(5)"
   ]
  },
  {
   "cell_type": "code",
   "execution_count": 27,
   "metadata": {},
   "outputs": [
    {
     "data": {
      "text/plain": [
       "[0, 1, 2, 4, 5]"
      ]
     },
     "execution_count": 27,
     "metadata": {},
     "output_type": "execute_result"
    }
   ],
   "source": [
    "list"
   ]
  },
  {
   "cell_type": "code",
   "execution_count": 36,
   "metadata": {},
   "outputs": [
    {
     "data": {
      "text/plain": [
       "[1, 2, 4, 5]"
      ]
     },
     "execution_count": 36,
     "metadata": {},
     "output_type": "execute_result"
    }
   ],
   "source": [
    "listA[1:]"
   ]
  },
  {
   "cell_type": "code",
   "execution_count": 41,
   "metadata": {},
   "outputs": [],
   "source": [
    "listB = [\"orange\", \"red\", \"yellow\", \"blue\"]"
   ]
  },
  {
   "cell_type": "markdown",
   "metadata": {},
   "source": [
    "## storing data in python: tuples"
   ]
  },
  {
   "cell_type": "code",
   "execution_count": 28,
   "metadata": {},
   "outputs": [],
   "source": [
    "myTuple = (1,2,3,(4,5,6,(7,8,9)))"
   ]
  },
  {
   "cell_type": "code",
   "execution_count": 29,
   "metadata": {},
   "outputs": [
    {
     "data": {
      "text/plain": [
       "(1, 2, 3, (4, 5, 6, (7, 8, 9)))"
      ]
     },
     "execution_count": 29,
     "metadata": {},
     "output_type": "execute_result"
    }
   ],
   "source": [
    "myTuple"
   ]
  },
  {
   "cell_type": "markdown",
   "metadata": {},
   "source": [
    "## storing data in python: Dictionary"
   ]
  },
  {
   "cell_type": "code",
   "execution_count": 57,
   "metadata": {},
   "outputs": [],
   "source": [
    "myDict = {\"orange\":1, \"blue\":2, \"pink\":3}"
   ]
  },
  {
   "cell_type": "code",
   "execution_count": 60,
   "metadata": {},
   "outputs": [
    {
     "data": {
      "text/plain": [
       "2"
      ]
     },
     "execution_count": 60,
     "metadata": {},
     "output_type": "execute_result"
    }
   ],
   "source": [
    "myDict[\"blue\"]"
   ]
  },
  {
   "cell_type": "code",
   "execution_count": 61,
   "metadata": {},
   "outputs": [
    {
     "data": {
      "text/plain": [
       "dict"
      ]
     },
     "execution_count": 61,
     "metadata": {},
     "output_type": "execute_result"
    }
   ],
   "source": [
    "type(myDict)"
   ]
  },
  {
   "cell_type": "markdown",
   "metadata": {},
   "source": [
    "# Course5 Task 1 - ch5 exercises"
   ]
  },
  {
   "cell_type": "markdown",
   "metadata": {},
   "source": [
    "## loading a .txt file "
   ]
  },
  {
   "cell_type": "code",
   "execution_count": 5,
   "metadata": {},
   "outputs": [],
   "source": [
    "open_file = open (\"Colors.txt\", \"r\")"
   ]
  },
  {
   "cell_type": "code",
   "execution_count": 7,
   "metadata": {},
   "outputs": [
    {
     "name": "stdout",
     "output_type": "stream",
     "text": [
      "<_io.TextIOWrapper name='Colors.txt' mode='r' encoding='cp1252'>\n"
     ]
    }
   ],
   "source": [
    "## cannot simply print open() object\n",
    "print(open_file)"
   ]
  },
  {
   "cell_type": "code",
   "execution_count": 13,
   "metadata": {},
   "outputs": [
    {
     "name": "stdout",
     "output_type": "stream",
     "text": [
      "Colors.txt content:\n",
      "Color\tValue\n",
      "Red\t1\n",
      "Orange\t2\n",
      "Yellow\t3\n",
      "Green\t4\n",
      "Blue\t5\n",
      "Purple\t6\n",
      "Black\t7\n",
      "White\t8\n"
     ]
    }
   ],
   "source": [
    "print (\"Colors.txt content:\\n\" + open_file.read())"
   ]
  },
  {
   "cell_type": "markdown",
   "metadata": {},
   "source": [
    "## streaming a data file"
   ]
  },
  {
   "cell_type": "code",
   "execution_count": 18,
   "metadata": {},
   "outputs": [
    {
     "name": "stdout",
     "output_type": "stream",
     "text": [
      "Reading Data: Color\tValue\n",
      "\n",
      "Reading Data: Red\t1\n",
      "\n",
      "Reading Data: Orange\t2\n",
      "\n",
      "Reading Data: Yellow\t3\n",
      "\n",
      "Reading Data: Green\t4\n",
      "\n",
      "Reading Data: Blue\t5\n",
      "\n",
      "Reading Data: Purple\t6\n",
      "\n",
      "Reading Data: Black\t7\n",
      "\n",
      "Reading Data: White\t8\n"
     ]
    }
   ],
   "source": [
    "open_file = open (\"Colors.txt\", \"r\")\n",
    "for observation in open_file:\n",
    "    print(\"Reading Data: \" + observation)"
   ]
  },
  {
   "cell_type": "markdown",
   "metadata": {},
   "source": [
    "## radomly sampling a data file"
   ]
  },
  {
   "cell_type": "code",
   "execution_count": 26,
   "metadata": {},
   "outputs": [
    {
     "name": "stdout",
     "output_type": "stream",
     "text": [
      "Reading Line: 0 Content: Color\tValue\n",
      "\n",
      "Reading Line: 1 Content: Red\t1\n",
      "\n",
      "Reading Line: 4 Content: Green\t4\n",
      "\n",
      "Reading Line: 5 Content: Blue\t5\n",
      "\n"
     ]
    }
   ],
   "source": [
    "from random import random\n",
    "sample_size = 0.25\n",
    "open_file = open (\"Colors.txt\", \"r\")\n",
    "for j, observation in enumerate(open_file):\n",
    "    if random() <= sample_size:\n",
    "        print(\"Reading Line: \" + str(j) + \" Content: \" + observation)"
   ]
  },
  {
   "cell_type": "markdown",
   "metadata": {},
   "source": [
    "## use panda to load text and csv files"
   ]
  },
  {
   "cell_type": "code",
   "execution_count": 9,
   "metadata": {},
   "outputs": [
    {
     "name": "stdout",
     "output_type": "stream",
     "text": [
      "    Color  Value\n",
      "0     Red      1\n",
      "1  Orange      2\n",
      "2  Yellow      3\n",
      "3   Green      4\n",
      "4    Blue      5\n",
      "5  Purple      6\n",
      "6   Black      7\n",
      "7   White      8\n"
     ]
    }
   ],
   "source": [
    "import pandas as pd\n",
    "color_table = pd.read_table(\"Colors.txt\")\n",
    "print(color_table)"
   ]
  },
  {
   "cell_type": "code",
   "execution_count": 10,
   "metadata": {},
   "outputs": [
    {
     "data": {
      "text/plain": [
       "pandas.core.frame.DataFrame"
      ]
     },
     "execution_count": 10,
     "metadata": {},
     "output_type": "execute_result"
    }
   ],
   "source": [
    "type(color_table)"
   ]
  },
  {
   "cell_type": "code",
   "execution_count": 30,
   "metadata": {},
   "outputs": [
    {
     "name": "stdout",
     "output_type": "stream",
     "text": [
      "0         29.0000\n",
      "1          0.9167\n",
      "2          2.0000\n",
      "3         30.0000\n",
      "4         25.0000\n",
      "5         48.0000\n",
      "6         63.0000\n",
      "7         39.0000\n",
      "8         53.0000\n",
      "9         71.0000\n",
      "10        47.0000\n",
      "11        18.0000\n",
      "12        24.0000\n",
      "13        26.0000\n",
      "14        80.0000\n",
      "15      9999.0000\n",
      "16        24.0000\n",
      "17        50.0000\n",
      "18        32.0000\n",
      "19        36.0000\n",
      "20        37.0000\n",
      "21        47.0000\n",
      "22        26.0000\n",
      "23        42.0000\n",
      "24        29.0000\n",
      "25        25.0000\n",
      "26        25.0000\n",
      "27        19.0000\n",
      "28        35.0000\n",
      "29        28.0000\n",
      "          ...    \n",
      "1279      14.0000\n",
      "1280      22.0000\n",
      "1281      22.0000\n",
      "1282    9999.0000\n",
      "1283    9999.0000\n",
      "1284    9999.0000\n",
      "1285      32.5000\n",
      "1286      38.0000\n",
      "1287      51.0000\n",
      "1288      18.0000\n",
      "1289      21.0000\n",
      "1290      47.0000\n",
      "1291    9999.0000\n",
      "1292    9999.0000\n",
      "1293    9999.0000\n",
      "1294      28.5000\n",
      "1295      21.0000\n",
      "1296      27.0000\n",
      "1297    9999.0000\n",
      "1298      36.0000\n",
      "1299      27.0000\n",
      "1300      15.0000\n",
      "1301      45.5000\n",
      "1302    9999.0000\n",
      "1303    9999.0000\n",
      "1304      14.5000\n",
      "1305    9999.0000\n",
      "1306      26.5000\n",
      "1307      27.0000\n",
      "1308      29.0000\n",
      "Name: age, Length: 1309, dtype: float64\n"
     ]
    }
   ],
   "source": [
    "import pandas as pd\n",
    "titanic = pd.read_csv(\"Titanic.csv\")\n",
    "X = titanic[\"age\"]\n",
    "print(X)"
   ]
  },
  {
   "cell_type": "markdown",
   "metadata": {},
   "source": [
    "## import C3T3 wifi locating training set"
   ]
  },
  {
   "cell_type": "code",
   "execution_count": 11,
   "metadata": {},
   "outputs": [
    {
     "name": "stdout",
     "output_type": "stream",
     "text": [
      "       WAP001  WAP002  WAP003  WAP004  WAP005  WAP006  WAP007  WAP008  WAP009  \\\n",
      "0         100     100     100     100     100     100     100     100     100   \n",
      "1         100     100     100     100     100     100     100     100     100   \n",
      "2         100     100     100     100     100     100     100     -97     100   \n",
      "3         100     100     100     100     100     100     100     100     100   \n",
      "4         100     100     100     100     100     100     100     100     100   \n",
      "5         100     100     100     100     100     100     100     100     100   \n",
      "6         100     100     100     100     100     100     100     100     100   \n",
      "7         100     100     100     100     100     100     100     100     100   \n",
      "8         100     100     100     100     100     100     100     100     100   \n",
      "9         100     100     100     100     100     100     100     100     100   \n",
      "10        100     100     100     100     100     100     100     -83     100   \n",
      "11        100     100     100     100     100     100     100     -90     100   \n",
      "12        100     100     100     100     100     100     100     100     100   \n",
      "13        100     100     100     100     100     100     100     100     100   \n",
      "14        100     100     100     100     100     100     100     100     100   \n",
      "15        100     100     100     100     100     100     100     100     100   \n",
      "16        100     100     100     100     100     100     100     100     100   \n",
      "17        100     100     100     100     100     100     100     100     100   \n",
      "18        100     100     100     100     100     100     100     100     100   \n",
      "19        100     100     100     100     100     100     100     100     100   \n",
      "20        100     100     100     100     100     100     100     100     100   \n",
      "21        100     100     100     100     100     100     100     100     100   \n",
      "22        100     100     100     100     100     100     100     100     100   \n",
      "23        100     100     100     100     100     100     100     100     100   \n",
      "24        100     100     100     100     100     100     100     100     100   \n",
      "25        100     100     100     100     100     100     100     100     100   \n",
      "26        100     100     100     100     100     100     100     100     100   \n",
      "27        100     100     100     100     100     100     100     100     100   \n",
      "28        100     100     100     100     100     100     100     100     100   \n",
      "29        100     100     100     100     100     100     100     100     100   \n",
      "...       ...     ...     ...     ...     ...     ...     ...     ...     ...   \n",
      "19907     100     100     100     100     100     100     100     100     100   \n",
      "19908     100     100     100     100     100     100     100     100     100   \n",
      "19909     100     100     100     100     100     100     100     100     100   \n",
      "19910     100     100     100     100     100     100     100     100     100   \n",
      "19911     100     100     100     100     100     100     100     100     100   \n",
      "19912     100     100     100     100     100     100     100     100     100   \n",
      "19913     100     100     100     100     100     100     100     100     100   \n",
      "19914     100     100     100     100     100     100     100     100     100   \n",
      "19915     100     100     100     100     100     100     100     100     100   \n",
      "19916     100     100     100     100     100     100     100     100     100   \n",
      "19917     100     100     100     100     100     100     100     100     100   \n",
      "19918     100     100     100     100     100     100     100     100     100   \n",
      "19919     100     100     100     100     100     100     100     100     100   \n",
      "19920     100     100     100     100     100     100     100     100     100   \n",
      "19921     100     100     100     100     100     100     100     100     100   \n",
      "19922     100     100     100     100     100     100     100     100     100   \n",
      "19923     100     100     100     100     100     100     100     100     100   \n",
      "19924     100     100     100     100     100     100     100     100     100   \n",
      "19925     100     100     100     100     100     100     100     100     100   \n",
      "19926     100     100     100     100     100     100     100     100     100   \n",
      "19927     100     100     100     100     100     100     100     100     100   \n",
      "19928     100     100     100     100     100     100     100     100     100   \n",
      "19929     100     100     100     100     100     100     100     100     100   \n",
      "19930     100     100     100     100     100     100     100     100     100   \n",
      "19931     100     100     100     100     100     100     100     100     100   \n",
      "19932     100     100     100     100     100     100     100     100     100   \n",
      "19933     100     100     100     100     100     100     100     100     100   \n",
      "19934     100     100     100     100     100     100     100     100     100   \n",
      "19935     100     100     100     100     100     100     100     100     100   \n",
      "19936     100     100     100     100     100     100     100     100     100   \n",
      "\n",
      "       WAP010     ...      WAP520    LONGITUDE      LATITUDE  FLOOR  \\\n",
      "0         100     ...         100 -7541.264300  4.864921e+06      2   \n",
      "1         100     ...         100 -7536.621200  4.864934e+06      2   \n",
      "2         100     ...         100 -7519.152400  4.864950e+06      2   \n",
      "3         100     ...         100 -7524.570400  4.864934e+06      2   \n",
      "4         100     ...         100 -7632.143600  4.864982e+06      0   \n",
      "5         100     ...         100 -7533.896200  4.864939e+06      2   \n",
      "6         100     ...         100 -7519.152400  4.864950e+06      2   \n",
      "7         100     ...         100 -7527.451100  4.864929e+06      2   \n",
      "8         100     ...         100 -7559.497300  4.864888e+06      2   \n",
      "9         100     ...         100 -7510.437173  4.864949e+06      2   \n",
      "10        100     ...         100 -7528.816402  4.864959e+06      2   \n",
      "11        100     ...         100 -7523.628200  4.864952e+06      2   \n",
      "12        100     ...         100 -7571.093400  4.864872e+06      2   \n",
      "13        100     ...         100 -7559.782000  4.864871e+06      2   \n",
      "14        100     ...         100 -7562.186200  4.864867e+06      2   \n",
      "15        100     ...         100 -7564.196300  4.864887e+06      2   \n",
      "16        100     ...         100 -7555.132300  4.864885e+06      2   \n",
      "17        100     ...         100 -7520.724500  4.864892e+06      2   \n",
      "18        100     ...         100 -7521.867186  4.864889e+06      2   \n",
      "19        100     ...         100 -7537.339900  4.864896e+06      2   \n",
      "20        -94     ...         100 -7526.710927  4.864893e+06      2   \n",
      "21        100     ...         100 -7516.088800  4.864890e+06      2   \n",
      "22        100     ...         100 -7512.604164  4.864885e+06      2   \n",
      "23        -95     ...         100 -7520.755800  4.864891e+06      2   \n",
      "24        100     ...         100 -7516.841500  4.864889e+06      2   \n",
      "25        100     ...         100 -7502.449700  4.864884e+06      2   \n",
      "26        100     ...         100 -7489.177500  4.864900e+06      2   \n",
      "27        100     ...         100 -7482.456176  4.864901e+06      2   \n",
      "28        100     ...         100 -7491.030634  4.864865e+06      2   \n",
      "29        100     ...         100 -7501.221900  4.864863e+06      2   \n",
      "...       ...     ...         ...          ...           ...    ...   \n",
      "19907     100     ...         100 -7541.263500  4.864921e+06      3   \n",
      "19908     100     ...         100 -7539.413493  4.864924e+06      3   \n",
      "19909     100     ...         100 -7526.320097  4.864920e+06      3   \n",
      "19910     100     ...         100 -7404.436200  4.864809e+06      1   \n",
      "19911     100     ...         100 -7404.835700  4.864808e+06      1   \n",
      "19912     100     ...         100 -7408.338870  4.864812e+06      1   \n",
      "19913     100     ...         100 -7405.654400  4.864802e+06      1   \n",
      "19914     100     ...         100 -7408.565700  4.864797e+06      1   \n",
      "19915     100     ...         100 -7366.449900  4.864770e+06      1   \n",
      "19916     100     ...         100 -7398.534500  4.864788e+06      1   \n",
      "19917     100     ...         100 -7375.148100  4.864774e+06      1   \n",
      "19918     100     ...         100 -7384.873200  4.864781e+06      1   \n",
      "19919     100     ...         100 -7395.213200  4.864786e+06      1   \n",
      "19920     100     ...         100 -7352.940800  4.864763e+06      1   \n",
      "19921     100     ...         100 -7336.944300  4.864764e+06      1   \n",
      "19922     100     ...         100 -7340.191400  4.864758e+06      1   \n",
      "19923     100     ...         100 -7349.475600  4.864761e+06      1   \n",
      "19924     100     ...         100 -7363.159000  4.864768e+06      1   \n",
      "19925     100     ...         100 -7327.479452  4.864767e+06      1   \n",
      "19926     100     ...         100 -7331.496600  4.864768e+06      1   \n",
      "19927     100     ...         100 -7390.734700  4.864835e+06      1   \n",
      "19928     100     ...         100 -7331.463800  4.864769e+06      1   \n",
      "19929     100     ...         100 -7496.900900  4.864897e+06      3   \n",
      "19930     100     ...         100 -7516.198400  4.864890e+06      3   \n",
      "19931     100     ...         100 -7394.577825  4.864837e+06      1   \n",
      "19932     100     ...         100 -7485.468600  4.864875e+06      3   \n",
      "19933     100     ...         100 -7390.620600  4.864836e+06      1   \n",
      "19934     100     ...         100 -7516.841500  4.864889e+06      3   \n",
      "19935     100     ...         100 -7537.321900  4.864896e+06      3   \n",
      "19936     100     ...         100 -7536.165800  4.864898e+06      3   \n",
      "\n",
      "       BUILDINGID  SPACEID  RELATIVEPOSITION  USERID  PHONEID   TIMESTAMP  \n",
      "0               1      106                 2       2       23  1371713733  \n",
      "1               1      106                 2       2       23  1371713691  \n",
      "2               1      103                 2       2       23  1371714095  \n",
      "3               1      102                 2       2       23  1371713807  \n",
      "4               0      122                 2      11       13  1369909710  \n",
      "5               1      105                 2       2       23  1371713841  \n",
      "6               1      103                 2       2       23  1371713883  \n",
      "7               1      101                 2       2       23  1371713775  \n",
      "8               1      112                 2       2       23  1371714307  \n",
      "9               1      103                 1       2       23  1371714128  \n",
      "10              1      104                 1       2       23  1371714200  \n",
      "11              1      104                 2       2       23  1371714166  \n",
      "12              1      110                 2       2       23  1371714393  \n",
      "13              1      108                 2       2       23  1371714467  \n",
      "14              1      109                 2       2       23  1371714433  \n",
      "15              1      111                 2       2       23  1371714355  \n",
      "16              1      107                 2       2       23  1371714509  \n",
      "17              1       15                 2       2       23  1371714730  \n",
      "18              1       29                 1       2       23  1371714802  \n",
      "19              1      117                 2       2       23  1371714556  \n",
      "20              1       15                 1       2       23  1371714772  \n",
      "21              1       16                 2       2       23  1371714919  \n",
      "22              1       16                 1       2       23  1371714946  \n",
      "23              1       29                 2       2       23  1371714879  \n",
      "24              1       28                 2       2       23  1371714847  \n",
      "25              1       22                 2       2       23  1371714992  \n",
      "26              1       10                 2       2       23  1371715041  \n",
      "27              1       10                 1       2       23  1371715082  \n",
      "28              1        2                 1       2       23  1371715259  \n",
      "29              1        2                 2       2       23  1371715227  \n",
      "...           ...      ...               ...     ...      ...         ...  \n",
      "19907           1      104                 2      18       10  1371709494  \n",
      "19908           1      104                 1      18       10  1371709520  \n",
      "19909           1      101                 1      18       10  1371709586  \n",
      "19910           2      215                 2      18       10  1371709793  \n",
      "19911           2      214                 2      18       10  1371709831  \n",
      "19912           2      214                 1      18       10  1371709846  \n",
      "19913           2      201                 2      18       10  1371709880  \n",
      "19914           2      212                 2      18       10  1371709906  \n",
      "19915           2      224                 2      18       10  1371710047  \n",
      "19916           2      202                 2      18       10  1371709937  \n",
      "19917           2      209                 2      18       10  1371710012  \n",
      "19918           2      204                 2      18       10  1371709984  \n",
      "19919           2      203                 2      18       10  1371709959  \n",
      "19920           2      223                 2      18       10  1371710100  \n",
      "19921           2      218                 2      18       10  1371710190  \n",
      "19922           2      216                 2      18       10  1371710165  \n",
      "19923           2      221                 2      18       10  1371710130  \n",
      "19924           2      224                 2      18       10  1371710068  \n",
      "19925           2      206                 1      18       10  1371710255  \n",
      "19926           2      206                 2      18       10  1371710239  \n",
      "19927           2      141                 2      18       10  1371710382  \n",
      "19928           2      207                 2      18       10  1371710221  \n",
      "19929           1        2                 2      18       10  1371710652  \n",
      "19930           1        4                 2      18       10  1371710817  \n",
      "19931           2      140                 1      18       10  1371710420  \n",
      "19932           1        1                 2      18       10  1371710683  \n",
      "19933           2      140                 2      18       10  1371710402  \n",
      "19934           1       13                 2      18       10  1371710921  \n",
      "19935           1      113                 2      18       10  1371711049  \n",
      "19936           1      112                 2      18       10  1371711025  \n",
      "\n",
      "[19937 rows x 529 columns]\n"
     ]
    }
   ],
   "source": [
    "import pandas as pd\n",
    "wifi_train = pd.read_csv(\"trainingData.csv\")\n",
    "print(wifi_train)"
   ]
  },
  {
   "cell_type": "code",
   "execution_count": 12,
   "metadata": {},
   "outputs": [
    {
     "data": {
      "text/plain": [
       "pandas.core.frame.DataFrame"
      ]
     },
     "execution_count": 12,
     "metadata": {},
     "output_type": "execute_result"
    }
   ],
   "source": [
    "type(wifi_train)"
   ]
  },
  {
   "cell_type": "markdown",
   "metadata": {},
   "source": [
    "## import an image (unstructured data)"
   ]
  },
  {
   "cell_type": "code",
   "execution_count": 15,
   "metadata": {},
   "outputs": [
    {
     "data": {
      "image/png": "[encoded data removed]",
      "text/plain": [
       "<Figure size 432x288 with 1 Axes>"
      ]
     },
     "metadata": {},
     "output_type": "display_data"
    }
   ],
   "source": [
    "from skimage.io import imread\n",
    "from skimage.transform import resize\n",
    "from matplotlib import pyplot as plt\n",
    "import matplotlib.cm as cm\n",
    "\n",
    "example_file = (\"http://upload.wikimedia.org/\" +\n",
    "               \"wikipedia/commons/7/7d/Dog_face.png\")\n",
    "image = imread(example_file, as_grey=True)\n",
    "plt.imshow(image, cmap=cm.gray)\n",
    "plt.show()"
   ]
  },
  {
   "cell_type": "code",
   "execution_count": 19,
   "metadata": {},
   "outputs": [
    {
     "data": {
      "text/plain": [
       "numpy.ndarray"
      ]
     },
     "execution_count": 19,
     "metadata": {},
     "output_type": "execute_result"
    }
   ],
   "source": [
    "## what are the data types\n",
    "type(image)\n"
   ]
  },
  {
   "cell_type": "code",
   "execution_count": 34,
   "metadata": {},
   "outputs": [
    {
     "name": "stdout",
     "output_type": "stream",
     "text": [
      "data type: <class 'numpy.ndarray'>, shape: (90, 90)\n"
     ]
    }
   ],
   "source": [
    "print (\"data type: %s, shape: %s\" % (type(image), image.shape))"
   ]
  },
  {
   "cell_type": "markdown",
   "metadata": {},
   "source": [
    "## crop an image"
   ]
  },
  {
   "cell_type": "code",
   "execution_count": 35,
   "metadata": {},
   "outputs": [],
   "source": [
    "image2 = image[5:70,0:70]"
   ]
  },
  {
   "cell_type": "code",
   "execution_count": 36,
   "metadata": {},
   "outputs": [
    {
     "data": {
      "image/png": "[encoded data removed]",
      "text/plain": [
       "<Figure size 432x288 with 1 Axes>"
      ]
     },
     "metadata": {},
     "output_type": "display_data"
    }
   ],
   "source": [
    "plt.imshow(image2, cmap=cm.gray)\n",
    "plt.show()"
   ]
  },
  {
   "cell_type": "markdown",
   "metadata": {},
   "source": [
    "## resize an image and then flatten"
   ]
  },
  {
   "cell_type": "code",
   "execution_count": 42,
   "metadata": {},
   "outputs": [
    {
     "data": {
      "image/png": "[encoded data removed]",
      "text/plain": [
       "<Figure size 432x288 with 1 Axes>"
      ]
     },
     "metadata": {},
     "output_type": "display_data"
    }
   ],
   "source": [
    "image3 = resize(image2, (30,30), mode = \"constant\")\n",
    "plt.imshow(image3, cmap = cm.gray)\n",
    "plt.show()"
   ]
  },
  {
   "cell_type": "code",
   "execution_count": 43,
   "metadata": {},
   "outputs": [
    {
     "data": {
      "text/plain": [
       "numpy.ndarray"
      ]
     },
     "execution_count": 43,
     "metadata": {},
     "output_type": "execute_result"
    }
   ],
   "source": [
    "type(image3)"
   ]
  },
  {
   "cell_type": "code",
   "execution_count": 45,
   "metadata": {},
   "outputs": [
    {
     "data": {
      "text/plain": [
       "(30, 30)"
      ]
     },
     "execution_count": 45,
     "metadata": {},
     "output_type": "execute_result"
    }
   ],
   "source": [
    "image3.shape"
   ]
  },
  {
   "cell_type": "code",
   "execution_count": 46,
   "metadata": {},
   "outputs": [],
   "source": [
    "image3_row = image3.flatten()"
   ]
  },
  {
   "cell_type": "code",
   "execution_count": 47,
   "metadata": {},
   "outputs": [
    {
     "data": {
      "text/plain": [
       "numpy.ndarray"
      ]
     },
     "execution_count": 47,
     "metadata": {},
     "output_type": "execute_result"
    }
   ],
   "source": [
    "type(image3_row)"
   ]
  },
  {
   "cell_type": "code",
   "execution_count": 48,
   "metadata": {},
   "outputs": [
    {
     "data": {
      "text/plain": [
       "(900,)"
      ]
     },
     "execution_count": 48,
     "metadata": {},
     "output_type": "execute_result"
    }
   ],
   "source": [
    "image3_row.shape"
   ]
  },
  {
   "cell_type": "code",
   "execution_count": null,
   "metadata": {},
   "outputs": [],
   "source": []
  }
 ],
 "metadata": {
  "kernelspec": {
   "display_name": "Python 3",
   "language": "python",
   "name": "python3"
  },
  "language_info": {
   "codemirror_mode": {
    "name": "ipython",
    "version": 3
   },
   "file_extension": ".py",
   "mimetype": "text/x-python",
   "name": "python",
   "nbconvert_exporter": "python",
   "pygments_lexer": "ipython3",
   "version": "3.6.5"
  }
 },
 "nbformat": 4,
 "nbformat_minor": 2
}
